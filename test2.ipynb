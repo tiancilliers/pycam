{
 "cells": [
  {
   "cell_type": "code",
   "execution_count": 14,
   "metadata": {},
   "outputs": [
    {
     "name": "stdout",
     "output_type": "stream",
     "text": [
      "ADD 0\n",
      "ADD 1\n",
      "ADD 2\n",
      "ADD 3\n",
      "ADD 4\n",
      "DIVIDE BY 2\n"
     ]
    }
   ],
   "source": [
    "from copy import deepcopy\n",
    "\n",
    "class Operation:\n",
    "    def steps(self):\n",
    "        return\n",
    "\n",
    "class SimpleOp(Operation):\n",
    "    def __init__(self, k):\n",
    "        self.k = k\n",
    "\n",
    "    def steps(self):\n",
    "        def add(state):\n",
    "            state['x'] += self.k\n",
    "        yield (add, f\"ADD {self.k}\")\n",
    "\n",
    "class ComplexOp(Operation):\n",
    "    def steps(self):\n",
    "        for i in range(5):\n",
    "            yield from SimpleOp(i).steps()\n",
    "        def divide(state):\n",
    "            self.prev_state = state\n",
    "            state['x'] /= 2\n",
    "        yield (divide, \"DIVIDE BY 2\")\n",
    "\n",
    "i = 0\n",
    "ops = [ComplexOp(), SimpleOp(3)]\n",
    "state = {'x': 0}\n"
   ]
  }
 ],
 "metadata": {
  "kernelspec": {
   "display_name": "Python 3",
   "language": "python",
   "name": "python3"
  },
  "language_info": {
   "codemirror_mode": {
    "name": "ipython",
    "version": 3
   },
   "file_extension": ".py",
   "mimetype": "text/x-python",
   "name": "python",
   "nbconvert_exporter": "python",
   "pygments_lexer": "ipython3",
   "version": "3.11.1"
  }
 },
 "nbformat": 4,
 "nbformat_minor": 2
}
