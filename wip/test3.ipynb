{
 "cells": [
  {
   "cell_type": "code",
   "execution_count": null,
   "metadata": {},
   "outputs": [
    {
     "data": {
      "text/plain": [
       "array([[-2.50000000e-01,  4.16666667e-01, -3.95833333e-01,\n",
       "         1.22916667e+00],\n",
       "       [ 2.50000000e-01, -8.33333333e-02, -2.08333333e-02,\n",
       "        -1.45833333e-01],\n",
       "       [-5.91095591e-18,  3.76473116e-18,  2.50000000e-01,\n",
       "        -2.50000000e-01]])"
      ]
     },
     "execution_count": 4,
     "metadata": {},
     "output_type": "execute_result"
    }
   ],
   "source": [
    "import numpy as np\n",
    "\n",
    "p1 = np.array([1,1,1])\n",
    "p2 = np.array([5,1,1])\n",
    "p3 = np.array([2,3,5])\n",
    "\n",
    "p = np.array([3,2,3])\n",
    "\n",
    "d = np.dot(np.cross(p2-p1,p3-p1),p-p1)\n",
    "np.linalg.pinv(np.block([[p1, 1], [p2, 1], [p3, 1]]).T) @ np.block([p, 1])"
   ]
  }
 ],
 "metadata": {
  "kernelspec": {
   "display_name": "Python 3",
   "language": "python",
   "name": "python3"
  },
  "language_info": {
   "codemirror_mode": {
    "name": "ipython",
    "version": 3
   },
   "file_extension": ".py",
   "mimetype": "text/x-python",
   "name": "python",
   "nbconvert_exporter": "python",
   "pygments_lexer": "ipython3",
   "version": "3.11.1"
  }
 },
 "nbformat": 4,
 "nbformat_minor": 2
}
