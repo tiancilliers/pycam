{
 "cells": [
  {
   "cell_type": "code",
   "execution_count": 34,
   "metadata": {},
   "outputs": [],
   "source": [
    "from manifold3d import Manifold, CrossSection, set_circular_segments\n",
    "import math\n",
    "import numpy as np\n",
    "set_circular_segments(32)"
   ]
  },
  {
   "cell_type": "code",
   "execution_count": 35,
   "metadata": {},
   "outputs": [],
   "source": [
    "def generate_bit(type, diameter, length=50e-3):\n",
    "    if type == \"endmill\":\n",
    "        return Manifold.cylinder(length, diameter/2)\n",
    "    elif type == \"ballnose\":\n",
    "        shaft = Manifold.cylinder(length-diameter/2, diameter/2)\n",
    "        bit = Manifold.sphere(diameter/2)\n",
    "        return (shaft + bit).translate([0,0,diameter/2])\n",
    "    elif type == \"drill\":\n",
    "        conelen = 0.5*diameter/math.tan(math.radians(59))\n",
    "        shaft = Manifold.cylinder(length-conelen, diameter/2)\n",
    "        bit = Manifold.cylinder(conelen, diameter/2, 0).rotate(np.array([180, 0, 0]))\n",
    "        return (shaft + bit).translate([0,0,conelen])"
   ]
  },
  {
   "cell_type": "code",
   "execution_count": 36,
   "metadata": {},
   "outputs": [],
   "source": [
    "def generate_linear_cutarea(tool, dia, loc1, loc2, length=50e-3):\n",
    "    delta = loc2 - loc1\n",
    "    dcyl = 0 if tool == \"endmill\" else (0.5*dia if tool == \"ballnose\" else 0.5*dia/math.tan(math.radians(59)))\n",
    "    \n",
    "    dxy = (delta[0]**2 + delta[1]**2)**0.5\n",
    "    dxyz = (delta[0]**2 + delta[1]**2 + delta[2]**2)**0.5\n",
    "    phi = math.atan2(delta[1], delta[0])+np.pi\n",
    "    theta = math.atan2(dxy, delta[2])\n",
    "\n",
    "    mesh1 = generate_bit(tool, dia, length).rotate([0, 0, np.degrees(phi)]).translate(loc1)\n",
    "    mesh2 = generate_bit(tool, dia, length).rotate([0, 0, np.degrees(phi)]).translate(loc2)\n",
    "\n",
    "    cutarea = Manifold()\n",
    "    if dxy > 1e-9:\n",
    "        rectrod = CrossSection.square([dia, (length-dcyl)*np.sin(theta)]).translate([-0.5*dia, 0])\n",
    "        cutarea += Manifold.extrude(rectrod, dxyz)\\\n",
    "            .warp(lambda v: [v[0], v[1], v[2]+v[1]/math.tan(theta)])\\\n",
    "            .rotate(np.array([np.rad2deg(theta), 0, 0]))\\\n",
    "            .translate([0,0,dcyl])\n",
    "    if abs(delta[2]) > 1e-9:\n",
    "        circ = CrossSection.circle(0.5*dia)\n",
    "        cutarea += Manifold.extrude(circ, 1).scale([1,1,delta[2]])\\\n",
    "            .warp(lambda v: [v[0], v[1]-v[2]*math.tan(theta), v[2]])\\\n",
    "            .translate([0,0,dcyl])\n",
    "    cutarea += Manifold.cylinder(length-dcyl, 0.5*dia).rotate([0, 0, np.degrees(phi)]).translate([0,0,dcyl])\n",
    "    cutarea += Manifold.cylinder(length-dcyl, 0.5*dia).rotate([0, 0, np.degrees(phi)]).translate([0,-dxy,delta[2]+dcyl])\n",
    "    if tool == \"ballnose\":\n",
    "        circ = CrossSection.circle(0.5*dia)\n",
    "        cutarea += Manifold.extrude(circ, dxyz)\\\n",
    "            .rotate(np.array([np.rad2deg(theta), 0, 0]))\\\n",
    "            .translate([0,0,dcyl])\n",
    "        if dxy > 1e-9:\n",
    "            cutarea += Manifold.revolve(circ, circular_segments=int(16*(np.pi-theta)/np.pi)+1, revolve_degrees=np.degrees(np.pi-theta))\\\n",
    "                .rotate(np.array([-90, 0., 90]))\\\n",
    "                .translate([0,0,dcyl])\n",
    "            cutarea += Manifold.revolve(circ, circular_segments=int(16*(theta)/np.pi)+1, revolve_degrees=np.degrees(theta))\\\n",
    "                .rotate(np.array([-90, 0., -90]))\\\n",
    "                .translate([0,-dxy,dcyl+delta[2]])\n",
    "        else:\n",
    "            cutarea += Manifold.sphere(0.5*dia).translate([0,0,dcyl])\n",
    "\n",
    "    cutarea = cutarea.rotate(np.array([0, 0, -np.rad2deg(phi)])).translate(loc1)\n",
    "\n",
    "    return cutarea\n",
    "\n",
    "mesha = generate_linear_cutarea(\"endmill\", 4e-3, np.array([10e-3,10e-3,0e-3]), np.array([15e-3,10e-3,-5e-3]))"
   ]
  },
  {
   "cell_type": "code",
   "execution_count": 37,
   "metadata": {},
   "outputs": [
    {
     "data": {
      "text/plain": [
       "'loc1 = np.array([0, 0, 0])\\nloc2 = np.array([10e-3, 10e-3, 5e-3])\\ntool = \"ballnose\"\\n\\n\\n\\n\\nmesh1 = generate_bit(tool, 4e-3)\\nmesh2 = generate_bit(tool, )\\n\\nmeshz = Manifold.compose([mesh]).rotate().translate(-loc1)\\nmesh2 = Manifold.compose([mesh]).translate(loc2)\\n\\ncutarea = Manifold()\\nif dxy > 1e-9:\\n    rectrod = CrossSection.square([4e-3, (50e-3-dcyl)*np.sin(theta)]).translate([-2e-3, 0])\\n    meshz = meshz\\n    cutarea += Manifold.extrude(rectrod, dxyz)        .warp(lambda v: [v[0], v[1], v[2]+v[1]/math.tan(theta)])        .rotate(np.array([np.rad2deg(theta), 0, -np.rad2deg(phi)]))        .translate([0,0,dcyl])\\nif delta[2] > 1e-9:\\n    circ = CrossSection.circle(4e-3/2)\\n    cutarea += Manifold.extrude(circ, delta[2])        .warp(lambda v: [v[0], v[1]-v[2]*math.tan(theta), v[2]])        .rotate([-np.rad2deg(theta),0,0])        .rotate(np.array([np.rad2deg(theta), 0, -np.rad2deg(phi)]))        .translate([0,0,dcyl])\\nif tool == \"ballnose\":\\n    circ = CrossSection.circle(4e-3/2).translate([0,4e-3/2*np.sin(theta)])\\n    cutarea += Manifold.extrude(circ, delta[2])        .translate([0,0,4e-3/2*np.cos(theta)])        .rotate(np.array([np.rad2deg(theta), 0, -np.rad2deg(phi)]))\\ncutarea += meshz + mesh2'"
      ]
     },
     "execution_count": 37,
     "metadata": {},
     "output_type": "execute_result"
    }
   ],
   "source": [
    "'''loc1 = np.array([0, 0, 0])\n",
    "loc2 = np.array([10e-3, 10e-3, 5e-3])\n",
    "tool = \"ballnose\"\n",
    "\n",
    "\n",
    "\n",
    "\n",
    "mesh1 = generate_bit(tool, 4e-3)\n",
    "mesh2 = generate_bit(tool, )\n",
    "\n",
    "meshz = Manifold.compose([mesh]).rotate().translate(-loc1)\n",
    "mesh2 = Manifold.compose([mesh]).translate(loc2)\n",
    "\n",
    "cutarea = Manifold()\n",
    "if dxy > 1e-9:\n",
    "    rectrod = CrossSection.square([4e-3, (50e-3-dcyl)*np.sin(theta)]).translate([-2e-3, 0])\n",
    "    meshz = meshz\n",
    "    cutarea += Manifold.extrude(rectrod, dxyz)\\\n",
    "        .warp(lambda v: [v[0], v[1], v[2]+v[1]/math.tan(theta)])\\\n",
    "        .rotate(np.array([np.rad2deg(theta), 0, -np.rad2deg(phi)]))\\\n",
    "        .translate([0,0,dcyl])\n",
    "if delta[2] > 1e-9:\n",
    "    circ = CrossSection.circle(4e-3/2)\n",
    "    cutarea += Manifold.extrude(circ, delta[2])\\\n",
    "        .warp(lambda v: [v[0], v[1]-v[2]*math.tan(theta), v[2]])\\\n",
    "        .rotate([-np.rad2deg(theta),0,0])\\\n",
    "        .rotate(np.array([np.rad2deg(theta), 0, -np.rad2deg(phi)]))\\\n",
    "        .translate([0,0,dcyl])\n",
    "if tool == \"ballnose\":\n",
    "    circ = CrossSection.circle(4e-3/2).translate([0,4e-3/2*np.sin(theta)])\n",
    "    cutarea += Manifold.extrude(circ, delta[2])\\\n",
    "        .translate([0,0,4e-3/2*np.cos(theta)])\\\n",
    "        .rotate(np.array([np.rad2deg(theta), 0, -np.rad2deg(phi)]))\n",
    "cutarea += meshz + mesh2'''"
   ]
  },
  {
   "cell_type": "code",
   "execution_count": 38,
   "metadata": {},
   "outputs": [],
   "source": [
    "import polyscope as ps\n",
    "\n",
    "ps.init()\n",
    "ps.set_up_dir(\"z_up\")\n",
    "ps.set_front_dir(\"neg_y_front\")\n",
    "#ps.register_surface_mesh(\"mesh1\", mesh1.to_mesh().vert_properties[:, :3], mesh1.to_mesh().tri_verts)\n",
    "#ps.register_surface_mesh(\"mesh2\", mesh2.to_mesh().vert_properties[:, :3], mesh2.to_mesh().tri_verts)\n",
    "ps.register_surface_mesh(\"mesha\", mesha.to_mesh().vert_properties[:, :3], mesha.to_mesh().tri_verts)\n",
    "ps.show()"
   ]
  }
 ],
 "metadata": {
  "kernelspec": {
   "display_name": "Python 3",
   "language": "python",
   "name": "python3"
  },
  "language_info": {
   "codemirror_mode": {
    "name": "ipython",
    "version": 3
   },
   "file_extension": ".py",
   "mimetype": "text/x-python",
   "name": "python",
   "nbconvert_exporter": "python",
   "pygments_lexer": "ipython3",
   "version": "3.11.1"
  }
 },
 "nbformat": 4,
 "nbformat_minor": 2
}
