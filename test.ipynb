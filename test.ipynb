{
 "cells": [
  {
   "cell_type": "code",
   "execution_count": 242,
   "metadata": {},
   "outputs": [],
   "source": [
    "from manifold3d import Manifold, CrossSection, set_circular_segments\n",
    "import math\n",
    "import numpy as np\n",
    "set_circular_segments(32)"
   ]
  },
  {
   "cell_type": "code",
   "execution_count": 282,
   "metadata": {},
   "outputs": [],
   "source": [
    "def generate_bit(type, diameter, length=50e-3):\n",
    "    if type == \"endmill\":\n",
    "        return Manifold.cylinder(length, diameter/2)\n",
    "    elif type == \"ballnose\":\n",
    "        shaft = Manifold.cylinder(length-diameter/2, diameter/2)\n",
    "        bit = Manifold.sphere(diameter/2)\n",
    "        return (shaft + bit).translate([0,0,diameter/2])\n",
    "    elif type == \"drill\":\n",
    "        conelen = 0.5*diameter/math.tan(math.radians(59))\n",
    "        shaft = Manifold.cylinder(length-conelen, diameter/2)\n",
    "        bit = Manifold.cylinder(conelen, diameter/2, 0).rotate(np.array([180, 0, 0]))\n",
    "        return (shaft + bit).translate([0,0,conelen])"
   ]
  },
  {
   "cell_type": "code",
   "execution_count": 327,
   "metadata": {},
   "outputs": [],
   "source": [
    "loc1 = np.array([0, 0, 0])\n",
    "loc2 = np.array([10e-3, 10e-3, 5e-3])\n",
    "tool = \"ballnose\"\n",
    "dcyl = 0 if tool == \"endmill\" else (2e-3 if tool == \"ballnose\" else 0.5*4e-3/math.tan(math.radians(59)))\n",
    "mesh = generate_bit(tool, 4e-3).translate(loc1)\n",
    "\n",
    "meshz = Manifold.compose([mesh]).translate(-loc1)\n",
    "mesh2 = Manifold.compose([mesh]).translate(loc2)\n",
    "delta = loc2 - loc1\n",
    "dxy = (delta[0]**2 + delta[1]**2)**0.5\n",
    "dxyz = (delta[0]**2 + delta[1]**2 + delta[2]**2)**0.5\n",
    "phi = math.atan2(delta[1], delta[0])+np.pi\n",
    "theta = math.atan2(dxy, delta[2])\n",
    "cutarea = Manifold()\n",
    "if dxy > 1e-9:\n",
    "    rectrod = CrossSection.square([4e-3, (50e-3-dcyl)*np.sin(theta)]).translate([-2e-3, 0])\n",
    "    meshz = meshz\n",
    "    cutarea += Manifold.extrude(rectrod, dxyz)\\\n",
    "        .warp(lambda v: [v[0], v[1], v[2]+v[1]/math.tan(theta)])\\\n",
    "        .rotate(np.array([np.rad2deg(theta), 0, -np.rad2deg(phi)]))\\\n",
    "        .translate([0,0,dcyl])\n",
    "if delta[2] > 1e-9:\n",
    "    circ = CrossSection.circle(4e-3/2)\n",
    "    cutarea += Manifold.extrude(circ, delta[2])\\\n",
    "        .warp(lambda v: [v[0], v[1]-v[2]*math.tan(theta), v[2]])\\\n",
    "        .rotate([-np.rad2deg(theta),0,0])\\\n",
    "        .rotate(np.array([np.rad2deg(theta), 0, -np.rad2deg(phi)]))\\\n",
    "        .translate([0,0,dcyl])\n",
    "if tool == \"ballnose\":\n",
    "    circ = CrossSection.circle(4e-3/2).translate([0,4e-3/2*np.sin(theta)])\n",
    "    cutarea += Manifold.extrude(circ, delta[2])\\\n",
    "        .translate([0,0,4e-3/2*np.cos(theta)])\\\n",
    "        .rotate(np.array([np.rad2deg(theta), 0, -np.rad2deg(phi)]))\n",
    "cutarea += meshz + mesh2"
   ]
  },
  {
   "cell_type": "code",
   "execution_count": 328,
   "metadata": {},
   "outputs": [],
   "source": [
    "import polyscope as ps\n",
    "\n",
    "ps.init()\n",
    "ps.set_up_dir(\"z_up\")\n",
    "ps.set_front_dir(\"neg_y_front\")\n",
    "ps.register_surface_mesh(\"meshz\", meshz.to_mesh().vert_properties[:, :3], meshz.to_mesh().tri_verts)\n",
    "ps.register_surface_mesh(\"mesh2\", mesh2.to_mesh().vert_properties[:, :3], mesh2.to_mesh().tri_verts)\n",
    "ps.register_surface_mesh(\"mesh3\", cutarea.to_mesh().vert_properties[:, :3], cutarea.to_mesh().tri_verts)\n",
    "ps.show()"
   ]
  }
 ],
 "metadata": {
  "kernelspec": {
   "display_name": "Python 3",
   "language": "python",
   "name": "python3"
  },
  "language_info": {
   "codemirror_mode": {
    "name": "ipython",
    "version": 3
   },
   "file_extension": ".py",
   "mimetype": "text/x-python",
   "name": "python",
   "nbconvert_exporter": "python",
   "pygments_lexer": "ipython3",
   "version": "3.11.1"
  }
 },
 "nbformat": 4,
 "nbformat_minor": 2
}
